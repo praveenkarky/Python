{
 "cells": [
  {
   "cell_type": "raw",
   "metadata": {},
   "source": [
    "<-----------------------Non Parameterized Function---------------------------->"
   ]
  },
  {
   "cell_type": "code",
   "execution_count": null,
   "metadata": {},
   "outputs": [],
   "source": [
    "# Create Function Subfields()\n",
    "def Subfields():\n",
    "    print(\"Sub-fields in AI are:\")\n",
    "    print(\"Machine Learning\")\n",
    "    print(\"Neural Networks\")\n",
    "    print(\"Vision\")\n",
    "    print(\"Robotics\")\n",
    "    print(\"Speech Processing\")\n",
    "    print(\"Natural Language Processing\")\n",
    "  "
   ]
  },
  {
   "cell_type": "code",
   "execution_count": null,
   "metadata": {},
   "outputs": [],
   "source": [
    "Subfields()"
   ]
  },
  {
   "cell_type": "code",
   "execution_count": null,
   "metadata": {},
   "outputs": [],
   "source": [
    "# Create Function OddEven()\n",
    "def OddEven():\n",
    "    num1 = int(input(\"Enter a Number:\"))\n",
    "    if((num1%2)==1):\n",
    "        print(num1,\"is Odd Number\")\n",
    "    else:\n",
    "        print(num1, \"is Even Number\")\n",
    "    \n",
    "\n"
   ]
  },
  {
   "cell_type": "code",
   "execution_count": null,
   "metadata": {},
   "outputs": [],
   "source": [
    "OddEven()"
   ]
  },
  {
   "cell_type": "code",
   "execution_count": 49,
   "metadata": {},
   "outputs": [],
   "source": [
    "# Create Function Elegible()\n",
    "def Elegible():\n",
    "    var = input(\"Your Gender:\")\n",
    "    num = int(input(\"Your Age:\"))\n",
    "    if(var == \"Male\" and num >=21):\n",
    "        print(\"ELIGIBLE\")\n",
    "    elif(var == \"Female\" and num>=18):\n",
    "            print(\"ELIGIBLE\")\n",
    "    else:\n",
    "            print(\"NOT ELIGIBLE\")\n"
   ]
  },
  {
   "cell_type": "code",
   "execution_count": null,
   "metadata": {},
   "outputs": [],
   "source": [
    "Elegible()"
   ]
  },
  {
   "cell_type": "code",
   "execution_count": null,
   "metadata": {},
   "outputs": [],
   "source": [
    "#Create Function percentage()\n",
    "def Percentage():\n",
    "    num1 = int(input(\"Subject1:\"))\n",
    "    num2 = int(input(\"Subject2:\"))\n",
    "    num3 = int(input(\"Subject3:\"))\n",
    "    num4 = int(input(\"Subject4:\"))\n",
    "    num5 = int(input(\"Subject5:\"))\n",
    "    Total =(num1+num2+num3+num4+num5)\n",
    "    percentage = Total/5\n",
    "    print(\"Total:\",Total)\n",
    "    print(\"Percentage\",percentage)\n",
    "    "
   ]
  },
  {
   "cell_type": "code",
   "execution_count": null,
   "metadata": {},
   "outputs": [],
   "source": [
    "Percentage()"
   ]
  },
  {
   "cell_type": "code",
   "execution_count": null,
   "metadata": {},
   "outputs": [],
   "source": [
    "# Create Function triangle()\n",
    "def triangle():\n",
    "    num1 = int(input(\"Height:\"))\n",
    "    num2 = int(input(\"Breadth:\"))\n",
    "    print(\"Area formula: (Height*Breadth)/2\")\n",
    "    Area = (num1*num2)/2\n",
    "    print(\"Area of Triangle:\",Area)"
   ]
  },
  {
   "cell_type": "code",
   "execution_count": null,
   "metadata": {},
   "outputs": [],
   "source": [
    "triangle()"
   ]
  },
  {
   "cell_type": "code",
   "execution_count": null,
   "metadata": {},
   "outputs": [],
   "source": [
    "# Create Function Perimetertriangle()\n",
    "def PerimeterTriangle():\n",
    "    num1 = int(input(\"Height1:\"))\n",
    "    num2 = int(input(\"Height2:\"))\n",
    "    num3 = int(input(\"Breadth:\"))\n",
    "    print(\"Perimeter formula: Height1+Height2+Breadth\")\n",
    "    perimeter = num1+num2+num3\n",
    "    print(\"Perimeter of Triangle: \",perimeter)\n",
    "    "
   ]
  },
  {
   "cell_type": "code",
   "execution_count": null,
   "metadata": {},
   "outputs": [],
   "source": [
    "PerimeterTriangle()"
   ]
  },
  {
   "cell_type": "markdown",
   "metadata": {},
   "source": [
    "<------------------------------Parameterized Function  with return statement----------------------------->"
   ]
  },
  {
   "cell_type": "code",
   "execution_count": 39,
   "metadata": {},
   "outputs": [],
   "source": [
    "# Create Function Subfields()\n",
    "def Subfields():\n",
    "    message=\"Sub-fields in AI are: \"\n",
    "    message+=\"Machine Learning,\"\n",
    "    message+=\" Neural Networks,\"\n",
    "    message+=\" Vision,\"\n",
    "    message+=\" Robotics,\"\n",
    "    message+=\" Speech Processing,\"\n",
    "    message+=\" Natural Language Processing\"\n",
    "    return message\n"
   ]
  },
  {
   "cell_type": "code",
   "execution_count": 41,
   "metadata": {},
   "outputs": [
    {
     "name": "stdout",
     "output_type": "stream",
     "text": [
      "Sub-fields in AI are: Machine Learning, Neural Networks, Vision, Robotics, Speech Processing, Natural Language Processing\n"
     ]
    }
   ],
   "source": [
    "message = Subfields()\n",
    "print(message)"
   ]
  },
  {
   "cell_type": "code",
   "execution_count": 18,
   "metadata": {},
   "outputs": [],
   "source": [
    "# Create Function OddEven()\n",
    "def OddEven():\n",
    "            num5 =int(input(\"Enter the number \"))\n",
    "            if((num5%2)==1):\n",
    "                print(num5,\" is odd number\")\n",
    "                message=\"Odd\"\n",
    "            else:\n",
    "                print(num5,\" is Even number\")\n",
    "                message=\"Even\"\n",
    "            return message    \n"
   ]
  },
  {
   "cell_type": "code",
   "execution_count": 21,
   "metadata": {},
   "outputs": [
    {
     "name": "stdout",
     "output_type": "stream",
     "text": [
      "Enter the number 4\n",
      "4  is Even number\n"
     ]
    }
   ],
   "source": [
    "optmessage = OddEven()\n"
   ]
  },
  {
   "cell_type": "code",
   "execution_count": 32,
   "metadata": {},
   "outputs": [],
   "source": [
    "# Create Function Perimetertriangle()\n",
    "def PerimeterTriangle(num1,num2,num3):\n",
    "    print(\"Height1:\",num1)\n",
    "    print(\"Height2:\",num2)\n",
    "    print(\"Height3:\",num3)\n",
    "    perimeter = num1+num2+num3\n",
    "    print(\"Perimeter formula: Height1+Height2+Breadth\")\n",
    "    print(\"Perimeter of Triangle: \",perimeter)\n",
    "    return perimeter"
   ]
  },
  {
   "cell_type": "code",
   "execution_count": 33,
   "metadata": {},
   "outputs": [
    {
     "name": "stdout",
     "output_type": "stream",
     "text": [
      "Height1: 9\n",
      "Height2: 4\n",
      "Height3: 45\n",
      "Perimeter formula: Height1+Height2+Breadth\n",
      "Perimeter of Triangle:  58\n"
     ]
    }
   ],
   "source": [
    "result = PerimeterTriangle(9,4,45)"
   ]
  },
  {
   "cell_type": "code",
   "execution_count": 36,
   "metadata": {},
   "outputs": [],
   "source": [
    "# Create Function triangle()\n",
    "def triangle(num1,num2):\n",
    "    print(\"Height:\",num1)\n",
    "    print(\"Breadth:\",num2)\n",
    "    print(\"Area formula: (Height*Breadth)/2\")\n",
    "    Area = (num1*num2)/2\n",
    "    print(\"Area of Triangle:\",Area)\n",
    "    return Area"
   ]
  },
  {
   "cell_type": "code",
   "execution_count": 37,
   "metadata": {},
   "outputs": [
    {
     "name": "stdout",
     "output_type": "stream",
     "text": [
      "Height: 3\n",
      "Breadth: 4\n",
      "Area formula: (Height*Breadth)/2\n",
      "Area of Triangle: 6.0\n"
     ]
    }
   ],
   "source": [
    "area = triangle(3,4)"
   ]
  },
  {
   "cell_type": "code",
   "execution_count": 50,
   "metadata": {},
   "outputs": [],
   "source": [
    "#Create Function percentage()\n",
    "def Percentage():\n",
    "    num1 = int(input(\"Subject1:\"))\n",
    "    num2 = int(input(\"Subject2:\"))\n",
    "    num3 = int(input(\"Subject3:\"))\n",
    "    num4 = int(input(\"Subject4:\"))\n",
    "    num5 = int(input(\"Subject5:\"))\n",
    "    Total =(num1+num2+num3+num4+num5)\n",
    "    percentage = Total/5\n",
    "    print(\"Total:\",Total)\n",
    "    print(\"Percentage\",percentage)\n",
    "    return Total"
   ]
  },
  {
   "cell_type": "code",
   "execution_count": 51,
   "metadata": {},
   "outputs": [
    {
     "name": "stdout",
     "output_type": "stream",
     "text": [
      "Subject1:23\n",
      "Subject2:23\n",
      "Subject3:34\n",
      "Subject4:23\n",
      "Subject5:23\n",
      "Total: 126\n",
      "Percentage 25.2\n"
     ]
    }
   ],
   "source": [
    "total = Percentage()"
   ]
  },
  {
   "cell_type": "code",
   "execution_count": null,
   "metadata": {},
   "outputs": [],
   "source": []
  }
 ],
 "metadata": {
  "kernelspec": {
   "display_name": "Python 3",
   "language": "python",
   "name": "python3"
  },
  "language_info": {
   "codemirror_mode": {
    "name": "ipython",
    "version": 3
   },
   "file_extension": ".py",
   "mimetype": "text/x-python",
   "name": "python",
   "nbconvert_exporter": "python",
   "pygments_lexer": "ipython3",
   "version": "3.7.4"
  }
 },
 "nbformat": 4,
 "nbformat_minor": 2
}
