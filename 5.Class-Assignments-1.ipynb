{
 "cells": [
  {
   "cell_type": "code",
   "execution_count": 6,
   "metadata": {},
   "outputs": [],
   "source": [
    "# Create a class and function, and list out the items in the list\n",
    "#SubfieldsInAI.Subfields()\n",
    "class SubfieldsInAI():\n",
    "        def Subfields():\n",
    "            print(\"Sub-fields in AI are:\")\n",
    "            print(\"Machine Learning\")\n",
    "            print(\"Neural Networks\")\n",
    "            print(\"Vision\")\n",
    "            print(\"Robotics\")\n",
    "            print(\"Speech Processing\")\n",
    "            print(\"Natural Language Processing\")"
   ]
  },
  {
   "cell_type": "code",
   "execution_count": 8,
   "metadata": {},
   "outputs": [
    {
     "name": "stdout",
     "output_type": "stream",
     "text": [
      "Sub-fields in AI are:\n",
      "Machine Learning\n",
      "Neural Networks\n",
      "Vision\n",
      "Robotics\n",
      "Speech Processing\n",
      "Natural Language Processing\n"
     ]
    }
   ],
   "source": [
    "SubfieldsInAI.Subfields()"
   ]
  },
  {
   "cell_type": "code",
   "execution_count": 9,
   "metadata": {},
   "outputs": [],
   "source": [
    "# Create a function that checks whether the given number is Odd or Even\n",
    "#OddEven.OddEven()\n",
    "class OddEven():\n",
    "        def OddEven():\n",
    "            num1 = int(input(\"Enter a Number:\"))\n",
    "            if((num1%2)==1):\n",
    "                print(num1,\"is Odd Number\")\n",
    "            else:\n",
    "                print(num1, \"is Even Number\")"
   ]
  },
  {
   "cell_type": "code",
   "execution_count": 10,
   "metadata": {},
   "outputs": [
    {
     "name": "stdout",
     "output_type": "stream",
     "text": [
      "Enter a Number:52452\n",
      "52452 is Even Number\n"
     ]
    }
   ],
   "source": [
    "OddEven.OddEven()"
   ]
  },
  {
   "cell_type": "code",
   "execution_count": 23,
   "metadata": {},
   "outputs": [],
   "source": [
    "# Create a function that tells elegibility of marriage for male and female according to their age limit \n",
    "#like 21 for male and 18 for female\n",
    "#ElegiblityForMarriage.Elegible()\n",
    "\n",
    "class ElegiblityForMarriage():\n",
    "        def Elegible():\n",
    "            var = input(\"Your Gender:\")\n",
    "            num = int(input(\"Your Age:\"))\n",
    "            if(var == \"Male\" and num >=21):\n",
    "                print(\"ELIGIBLE\")\n",
    "            elif(var == \"Female\" and num>=18):\n",
    "                print(\"ELIGIBLE\")\n",
    "            else:\n",
    "                print(\"NOT ELIGIBLE\")\n",
    "\n",
    "\n"
   ]
  },
  {
   "cell_type": "code",
   "execution_count": 28,
   "metadata": {},
   "outputs": [
    {
     "name": "stdout",
     "output_type": "stream",
     "text": [
      "Your Gender:Male\n",
      "Your Age:20\n",
      "NOT ELIGIBLE\n"
     ]
    }
   ],
   "source": [
    "ElegiblityForMarriage.Elegible()"
   ]
  },
  {
   "cell_type": "code",
   "execution_count": 33,
   "metadata": {},
   "outputs": [],
   "source": [
    "# calculate the percentage of your 10th mark\n",
    "#FindPercent.percentage()\n",
    "class FindPercent():\n",
    "        def Percentage():\n",
    "            num1 = int(input(\"Subject1:\"))\n",
    "            num2 = int(input(\"Subject2:\"))\n",
    "            num3 = int(input(\"Subject3:\"))\n",
    "            num4 = int(input(\"Subject4:\"))\n",
    "            num5 = int(input(\"Subject5:\"))\n",
    "            Total =(num1+num2+num3+num4+num5)\n",
    "            percentage = Total/5\n",
    "            print(\"Total:\",Total)\n",
    "            print(\"Percentage\",percentage)\n",
    "  "
   ]
  },
  {
   "cell_type": "code",
   "execution_count": 34,
   "metadata": {},
   "outputs": [
    {
     "name": "stdout",
     "output_type": "stream",
     "text": [
      "Subject1:98\n",
      "Subject2:87\n",
      "Subject3:95\n",
      "Subject4:95\n",
      "Subject5:95\n",
      "Total: 470\n",
      "Percentage 94.0\n"
     ]
    }
   ],
   "source": [
    "FindPercent.Percentage()\n"
   ]
  },
  {
   "cell_type": "code",
   "execution_count": 41,
   "metadata": {},
   "outputs": [],
   "source": [
    "#print area and perimeter of triangle using class and functions\n",
    "#triangle.triangle()\n",
    "class triangle():\n",
    "        def triangle():\n",
    "            num1 = int(input(\"Height:\"))\n",
    "            num2 = int(input(\"Breadth:\"))\n",
    "            print(\"Area formula: (Height*Breadth)/2\")\n",
    "            Area = (num1*num2)/2\n",
    "            print(\"Area of Triangle:\",Area)\n",
    "        def PerimeterTriangle():\n",
    "            num1 = int(input(\"Height1:\"))\n",
    "            num2 = int(input(\"Height2:\"))\n",
    "            num3 = int(input(\"Breadth:\"))\n",
    "            print(\"Perimeter formula: Height1+Height2+Breadth\")\n",
    "            perimeter = num1+num2+num3\n",
    "            print(\"Perimeter of Triangle: \",perimeter)    "
   ]
  },
  {
   "cell_type": "code",
   "execution_count": 38,
   "metadata": {},
   "outputs": [
    {
     "name": "stdout",
     "output_type": "stream",
     "text": [
      "Height:32\n",
      "Breadth:34\n",
      "Area formula: (Height*Breadth)/2\n",
      "Area of Triangle: 544.0\n"
     ]
    }
   ],
   "source": [
    "triangle.triangle()"
   ]
  },
  {
   "cell_type": "code",
   "execution_count": 42,
   "metadata": {},
   "outputs": [
    {
     "name": "stdout",
     "output_type": "stream",
     "text": [
      "Height1:2\n",
      "Height2:4\n",
      "Breadth:4\n",
      "Perimeter formula: Height1+Height2+Breadth\n",
      "Perimeter of Triangle:  10\n"
     ]
    }
   ],
   "source": [
    "triangle.PerimeterTriangle()"
   ]
  },
  {
   "cell_type": "code",
   "execution_count": null,
   "metadata": {},
   "outputs": [],
   "source": []
  }
 ],
 "metadata": {
  "kernelspec": {
   "display_name": "Python 3",
   "language": "python",
   "name": "python3"
  },
  "language_info": {
   "codemirror_mode": {
    "name": "ipython",
    "version": 3
   },
   "file_extension": ".py",
   "mimetype": "text/x-python",
   "name": "python",
   "nbconvert_exporter": "python",
   "pygments_lexer": "ipython3",
   "version": "3.7.4"
  }
 },
 "nbformat": 4,
 "nbformat_minor": 2
}
